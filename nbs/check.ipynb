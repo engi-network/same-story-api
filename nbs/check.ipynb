{
 "cells": [
  {
   "cell_type": "code",
   "execution_count": 2,
   "id": "0d73b6ba-7fc6-4505-8a1b-8489d8aa9c12",
   "metadata": {},
   "outputs": [],
   "source": [
    "import os"
   ]
  },
  {
   "cell_type": "code",
   "execution_count": 3,
   "id": "c52647ac-5454-46c2-a866-a2bf3e3dc37c",
   "metadata": {},
   "outputs": [],
   "source": [
    "import json"
   ]
  },
  {
   "cell_type": "code",
   "execution_count": 4,
   "id": "3ec33bcf-0f4b-44a2-9adb-73ddd38cc8ad",
   "metadata": {},
   "outputs": [],
   "source": [
    "from dotenv import load_dotenv"
   ]
  },
  {
   "cell_type": "code",
   "execution_count": 5,
   "id": "3e73d4b1-cc6b-4de3-ab62-3bf6a477e0e0",
   "metadata": {},
   "outputs": [],
   "source": [
    "from IPython.display import Image"
   ]
  },
  {
   "cell_type": "code",
   "execution_count": 6,
   "id": "545d076d-c4d1-468a-835d-575168b51142",
   "metadata": {},
   "outputs": [
    {
     "data": {
      "text/plain": [
       "True"
      ]
     },
     "execution_count": 6,
     "metadata": {},
     "output_type": "execute_result"
    }
   ],
   "source": [
    "load_dotenv()"
   ]
  },
  {
   "cell_type": "code",
   "execution_count": 7,
   "id": "0dbcb6fe-780b-4e40-8ff1-5e0049d3519e",
   "metadata": {},
   "outputs": [],
   "source": [
    "check_id=1644302997171"
   ]
  },
  {
   "cell_type": "markdown",
   "id": "e0acbb11-f10c-4929-ac67-e25a8476b540",
   "metadata": {},
   "source": [
    "## Testing check.py"
   ]
  },
  {
   "cell_type": "code",
   "execution_count": 16,
   "id": "699879d7-20b7-4016-bdb2-cddb9cb0689d",
   "metadata": {},
   "outputs": [
    {
     "name": "stdout",
     "output_type": "stream",
     "text": [
      "Automatic pdb calling has been turned ON\n"
     ]
    }
   ],
   "source": [
    "%pdb"
   ]
  },
  {
   "cell_type": "code",
   "execution_count": 47,
   "id": "59f3d048-796f-4661-9b41-6068d41c9d9f",
   "metadata": {},
   "outputs": [],
   "source": [
    "%run ../server/check.py"
   ]
  },
  {
   "cell_type": "code",
   "execution_count": 48,
   "id": "06838ddd-49cd-4f40-a603-4ee5578ada17",
   "metadata": {},
   "outputs": [
    {
     "name": "stderr",
     "output_type": "stream",
     "text": [
      "2022-03-21 06:20:23 root                      INFO     check_prefix=PosixPath('same-story/checks/1644302997171') check_dir=PosixPath('/var/folders/d9/ys4dflhn1txdhj53rwrj2x340000gn/T/tmptxe27d5k/same-story/checks/1644302997171')\n",
      "2022-03-21 06:20:25 root                      INFO     [stdout]\n",
      "download: s3://same-story/checks/1644302997171/report/__screenshots__/Example/Button/Primary.png to ../../../../../../var/folders/d9/ys4dflhn1txdhj53rwrj2x340000gn/T/tmptxe27d5k/same-story/checks/1644302997171/report/__screenshots__/Example/Button/Primary.png\n",
      "download: s3://same-story/checks/1644302997171/report/__screenshots__/Example/Button/Secondary.png to ../../../../../../var/folders/d9/ys4dflhn1txdhj53rwrj2x340000gn/T/tmptxe27d5k/same-story/checks/1644302997171/report/__screenshots__/Example/Button/Secondary.png\n",
      "download: s3://same-story/checks/1644302997171/report/__screenshots__/Example/Header/Logged In.png to ../../../../../../var/folders/d9/ys4dflhn1txdhj53rwrj2x340000gn/T/tmptxe27d5k/same-story/checks/1644302997171/report/__screenshots__/Example/Header/Logged In.png\n",
      "download: s3://same-story/checks/1644302997171/frames/Button-Primary.png to ../../../../../../var/folders/d9/ys4dflhn1txdhj53rwrj2x340000gn/T/tmptxe27d5k/same-story/checks/1644302997171/frames/Button-Primary.png\n",
      "download: s3://same-story/checks/1644302997171/report/__screenshots__/Example/Button/Large.png to ../../../../../../var/folders/d9/ys4dflhn1txdhj53rwrj2x340000gn/T/tmptxe27d5k/same-story/checks/1644302997171/report/__screenshots__/Example/Button/Large.png\n",
      "download: s3://same-story/checks/1644302997171/report/__screenshots__/Example/Header/Logged Out.png to ../../../../../../var/folders/d9/ys4dflhn1txdhj53rwrj2x340000gn/T/tmptxe27d5k/same-story/checks/1644302997171/report/__screenshots__/Example/Header/Logged Out.png\n",
      "download: s3://same-story/checks/1644302997171/report/gray_difference.png to ../../../../../../var/folders/d9/ys4dflhn1txdhj53rwrj2x340000gn/T/tmptxe27d5k/same-story/checks/1644302997171/report/gray_difference.png\n",
      "download: s3://same-story/checks/1644302997171/report/__screenshots__/Example/Button/Small.png to ../../../../../../var/folders/d9/ys4dflhn1txdhj53rwrj2x340000gn/T/tmptxe27d5k/same-story/checks/1644302997171/report/__screenshots__/Example/Button/Small.png\n",
      "download: s3://same-story/checks/1644302997171/specification.json to ../../../../../../var/folders/d9/ys4dflhn1txdhj53rwrj2x340000gn/T/tmptxe27d5k/same-story/checks/1644302997171/specification.json\n",
      "download: s3://same-story/checks/1644302997171/report/blue_difference.png to ../../../../../../var/folders/d9/ys4dflhn1txdhj53rwrj2x340000gn/T/tmptxe27d5k/same-story/checks/1644302997171/report/blue_difference.png\n",
      "download: s3://same-story/checks/1644302997171/report/results.json to ../../../../../../var/folders/d9/ys4dflhn1txdhj53rwrj2x340000gn/T/tmptxe27d5k/same-story/checks/1644302997171/report/results.json\n",
      "download: s3://same-story/checks/1644302997171/report/__screenshots__/Example/Page/Logged Out.png to ../../../../../../var/folders/d9/ys4dflhn1txdhj53rwrj2x340000gn/T/tmptxe27d5k/same-story/checks/1644302997171/report/__screenshots__/Example/Page/Logged Out.png\n",
      "download: s3://same-story/checks/1644302997171/report/__screenshots__/Example/Page/Logged In.png to ../../../../../../var/folders/d9/ys4dflhn1txdhj53rwrj2x340000gn/T/tmptxe27d5k/same-story/checks/1644302997171/report/__screenshots__/Example/Page/Logged In.png\n",
      "\n",
      "2022-03-21 06:20:25 root                      INFO     'aws s3 cp s3://same-story/checks/1644302997171 /var/folders/d9/ys4dflhn1txdhj53rwrj2x340000gn/T/tmptxe27d5k/same-story/checks/1644302997171 --recursive' exited with code 0 elapsed 2.1122548330022255 seconds\n",
      "2022-03-21 06:20:25 root                      INFO     loaded spec spec={'check': 1644302997171, 'width': '800', 'height': '600', 'component': 'Button', 'story': 'Primary', 'repository': 'engi-network/engi-ui'}\n",
      "2022-03-21 06:20:28 root                      INFO     [stderr]\n",
      "Cloning into '/var/folders/d9/ys4dflhn1txdhj53rwrj2x340000gn/T/tmptxe27d5k/same-story/checks/1644302997171/code'...\n",
      "\n",
      "2022-03-21 06:20:28 root                      INFO     'gh repo clone engi-network/engi-ui /var/folders/d9/ys4dflhn1txdhj53rwrj2x340000gn/T/tmptxe27d5k/same-story/checks/1644302997171/code' exited with code 0 elapsed 2.2549701660027495 seconds\n",
      "2022-03-21 06:20:28 root                      INFO     npm install\n",
      "2022-03-21 06:20:45 root                      INFO     [stdout]\n",
      "\n",
      "added 2647 packages, and audited 2648 packages in 17s\n",
      "\n",
      "310 packages are looking for funding\n",
      "  run `npm fund` for details\n",
      "\n",
      "29 vulnerabilities (8 moderate, 21 high)\n",
      "\n",
      "To address issues that do not require attention, run:\n",
      "  npm audit fix\n",
      "\n",
      "To address all issues (including breaking changes), run:\n",
      "  npm audit fix --force\n",
      "\n",
      "Run `npm audit` for details.\n",
      "\n",
      "2022-03-21 06:20:45 root                      INFO     [stderr]\n",
      "npm WARN deprecated @types/chalk@2.2.0: This is a stub types definition for chalk (https://github.com/chalk/chalk). chalk provides its own type definitions, so you don't need @types/chalk installed!\n",
      "npm WARN deprecated source-map-url@0.4.1: See https://github.com/lydell/source-map-url#deprecated\n",
      "npm WARN deprecated urix@0.1.0: Please see https://github.com/lydell/urix#deprecated\n",
      "npm WARN deprecated source-map-resolve@0.6.0: See https://github.com/lydell/source-map-resolve#deprecated\n",
      "npm WARN deprecated resolve-url@0.2.1: https://github.com/lydell/resolve-url#deprecated\n",
      "npm WARN deprecated querystring@0.2.1: The querystring API is considered Legacy. new code should use the URLSearchParams API instead.\n",
      "npm WARN deprecated source-map-resolve@0.5.3: See https://github.com/lydell/source-map-resolve#deprecated\n",
      "npm WARN deprecated sane@4.1.0: some dependency vulnerabilities fixed, support for node < 10 dropped, and newer ECMAScript syntax/features added\n",
      "npm WARN deprecated fsevents@1.2.13: fsevents 1 will break on node v14+ and could be using insecure binaries. Upgrade to fsevents 2.\n",
      "npm WARN deprecated chokidar@2.1.8: Chokidar 2 does not receive security updates since 2019. Upgrade to chokidar 3 with 15x fewer dependencies\n",
      "npm WARN deprecated querystring@0.2.0: The querystring API is considered Legacy. new code should use the URLSearchParams API instead.\n",
      "npm WARN deprecated uuid@3.4.0: Please upgrade  to version 7 or higher.  Older versions may use Math.random() in certain circumstances, which is known to be problematic.  See https://v8.dev/blog/math-random for details.\n",
      "npm WARN deprecated svgo@1.3.2: This SVGO version is no longer supported. Upgrade to v2.x.x.\n",
      "\n",
      "2022-03-21 06:20:45 root                      INFO     'npm install' exited with code 0 elapsed 17.243722917002742 seconds\n",
      "2022-03-21 06:20:45 root                      INFO     capturing screenshots\n",
      "2022-03-21 06:21:47 root                      INFO     [stdout]\n",
      "\n",
      "> engi-ui@0.1.0 storycap\n",
      "> storycap --serverCmd \"start-storybook -p 9001\" http://localhost:9001 \"--serverTimeout\" \"300000\" \"--captureTimeout\" \"300000\"\n",
      "\n",
      "\u001b[36minfo\u001b[39m Wait for connecting storybook server \u001b[32mhttp://localhost:9001\u001b[39m.\n",
      "\u001b[36minfo\u001b[39m Executable Chromium path: \u001b[35m/Applications/Google Chrome.app/Contents/MacOS/Google Chrome\u001b[39m\n",
      "\u001b[36minfo\u001b[39m Storycap runs with simple mode\n",
      "\u001b[36minfo\u001b[39m Found \u001b[32m2\u001b[39m stories.\n",
      "\u001b[36minfo\u001b[39m Screenshot stored: \u001b[35m__screenshots__/Example/Button/Secondary.png\u001b[39m in 789 msec.\n",
      "\u001b[36minfo\u001b[39m Screenshot stored: \u001b[35m__screenshots__/Example/Button/Primary.png\u001b[39m in 784 msec.\n",
      "\u001b[36minfo\u001b[39m Screenshot was ended successfully in \u001b[32m61080 msec\u001b[39m capturing \u001b[32m2\u001b[39m PNGs.\n",
      "\n",
      "2022-03-21 06:21:47 root                      INFO     'npm run storycap -- --serverTimeout 300000 --captureTimeout 300000' exited with code 0 elapsed 62.31348229100695 seconds\n",
      "2022-03-21 06:21:47 root                      INFO     uploading code screenshots to s3\n",
      "2022-03-21 06:21:48 root                      INFO     [stdout]\n",
      "upload: ../../../../../../../../../../../var/folders/d9/ys4dflhn1txdhj53rwrj2x340000gn/T/tmptxe27d5k/same-story/checks/1644302997171/code/__screenshots__/Example/Button/Secondary.png to s3://same-story/checks/1644302997171/report/__screenshots__/Example/Button/Secondary.png\n",
      "upload: ../../../../../../../../../../../var/folders/d9/ys4dflhn1txdhj53rwrj2x340000gn/T/tmptxe27d5k/same-story/checks/1644302997171/code/__screenshots__/Example/Button/Primary.png to s3://same-story/checks/1644302997171/report/__screenshots__/Example/Button/Primary.png\n",
      "\n",
      "2022-03-21 06:21:48 root                      INFO     'aws s3 cp /var/folders/d9/ys4dflhn1txdhj53rwrj2x340000gn/T/tmptxe27d5k/same-story/checks/1644302997171/code/__screenshots__ s3://same-story/checks/1644302997171/report/__screenshots__ --recursive' exited with code 0 elapsed 1.125767082994571 seconds\n",
      "2022-03-21 06:21:48 root                      INFO     running visual comparisons\n",
      "2022-03-21 06:21:48 root                      INFO     running regression with blue hightlight and uploading\n",
      "2022-03-21 06:21:48 root                      INFO     compare /var/folders/d9/ys4dflhn1txdhj53rwrj2x340000gn/T/tmptxe27d5k/same-story/checks/1644302997171/code/__screenshots__/Example/Button/Primary.png /var/folders/d9/ys4dflhn1txdhj53rwrj2x340000gn/T/tmptxe27d5k/same-story/checks/1644302997171/frames/Button-Primary.png -highlight-color blue blue_difference.png\n",
      "2022-03-21 06:21:49 root                      INFO     'compare /var/folders/d9/ys4dflhn1txdhj53rwrj2x340000gn/T/tmptxe27d5k/same-story/checks/1644302997171/code/__screenshots__/Example/Button/Primary.png /var/folders/d9/ys4dflhn1txdhj53rwrj2x340000gn/T/tmptxe27d5k/same-story/checks/1644302997171/frames/Button-Primary.png -highlight-color blue blue_difference.png' exited with code 1 elapsed 0.4118872079998255 seconds\n",
      "2022-03-21 06:21:50 root                      INFO     [stdout]\n",
      "upload: ./blue_difference.png to s3://same-story/checks/1644302997171/report/blue_difference.png\n",
      "\n",
      "2022-03-21 06:21:50 root                      INFO     'aws s3 cp blue_difference.png s3://same-story/checks/1644302997171/report/blue_difference.png' exited with code 0 elapsed 0.8507351250009378 seconds\n",
      "2022-03-21 06:21:50 root                      INFO     running regression with gray hightlight and uploading\n",
      "2022-03-21 06:21:50 root                      INFO     'convert /var/folders/d9/ys4dflhn1txdhj53rwrj2x340000gn/T/tmptxe27d5k/same-story/checks/1644302997171/code/__screenshots__/Example/Button/Primary.png -flatten -grayscale Rec709Luminance /var/folders/d9/ys4dflhn1txdhj53rwrj2x340000gn/T/tmptxe27d5k/same-story/checks/1644302997171/frames/Button-Primary.png -flatten -grayscale Rec709Luminance -clone 0-1 -compose darken -composite -channel RGB -combine gray_difference.png' exited with code 0 elapsed 0.3057638749887701 seconds\n",
      "2022-03-21 06:21:51 root                      INFO     [stdout]\n",
      "upload: ./gray_difference.png to s3://same-story/checks/1644302997171/report/gray_difference.png\n",
      "\n",
      "2022-03-21 06:21:51 root                      INFO     'aws s3 cp gray_difference.png s3://same-story/checks/1644302997171/report/gray_difference.png' exited with code 0 elapsed 0.9007048749917885 seconds\n",
      "2022-03-21 06:21:51 root                      INFO     [stderr]\n",
      "195.025 (0.00297589)\n",
      "2022-03-21 06:21:51 root                      INFO     'compare -metric MAE /var/folders/d9/ys4dflhn1txdhj53rwrj2x340000gn/T/tmptxe27d5k/same-story/checks/1644302997171/code/__screenshots__/Example/Button/Primary.png /var/folders/d9/ys4dflhn1txdhj53rwrj2x340000gn/T/tmptxe27d5k/same-story/checks/1644302997171/frames/Button-Primary.png null' exited with code 1 elapsed 0.25440700000035577 seconds\n",
      "2022-03-21 06:21:52 root                      INFO     [stdout]\n",
      "upload: ./results.json to s3://same-story/checks/1644302997171/report/results.json\n",
      "\n",
      "2022-03-21 06:21:52 root                      INFO     'aws s3 cp results.json s3://same-story/checks/1644302997171/report/results.json' exited with code 0 elapsed 0.8481525000097463 seconds\n",
      "2022-03-21 06:21:57 root                      INFO     check done 93.479227333999 seconds\n"
     ]
    }
   ],
   "source": [
    "returncode = await check(check_id)"
   ]
  },
  {
   "cell_type": "code",
   "execution_count": 49,
   "id": "e2a2a6fb-2f25-4ffe-943f-b305c1ce8049",
   "metadata": {},
   "outputs": [
    {
     "data": {
      "text/plain": [
       "0"
      ]
     },
     "execution_count": 49,
     "metadata": {},
     "output_type": "execute_result"
    }
   ],
   "source": [
    "returncode"
   ]
  },
  {
   "cell_type": "code",
   "execution_count": 22,
   "id": "c89dc34b-21c4-4e6b-b8e1-cefa776f6d1d",
   "metadata": {},
   "outputs": [
    {
     "name": "stdout",
     "output_type": "stream",
     "text": [
      "\u001b[34md9\u001b[m\u001b[m \u001b[34mzz\u001b[m\u001b[m\n"
     ]
    }
   ],
   "source": [
    "!ls /var/folders/"
   ]
  },
  {
   "cell_type": "markdown",
   "id": "5c070023-8912-493c-9faa-cfbe7177c495",
   "metadata": {},
   "source": [
    "### Running script directly"
   ]
  },
  {
   "cell_type": "code",
   "execution_count": 7,
   "id": "7e609964-beb7-4475-b85d-eb6975770f6f",
   "metadata": {},
   "outputs": [
    {
     "name": "stdout",
     "output_type": "stream",
     "text": [
      "download: s3://same-story/checks/1644302997171/frames/Button-Primary.png to ../../../../../../tmp/same-story/checks/1644302997171/frames/Button-Primary.png\n",
      "download: s3://same-story/checks/1644302997171/report/__screenshots__/Example/Button/Secondary.png to ../../../../../../tmp/same-story/checks/1644302997171/report/__screenshots__/Example/Button/Secondary.png\n",
      "download: s3://same-story/checks/1644302997171/report/__screenshots__/Example/Button/Large.png to ../../../../../../tmp/same-story/checks/1644302997171/report/__screenshots__/Example/Button/Large.png\n",
      "download: s3://same-story/checks/1644302997171/report/__screenshots__/Example/Button/Primary.png to ../../../../../../tmp/same-story/checks/1644302997171/report/__screenshots__/Example/Button/Primary.png\n",
      "download: s3://same-story/checks/1644302997171/report/__screenshots__/Example/Header/Logged In.png to ../../../../../../tmp/same-story/checks/1644302997171/report/__screenshots__/Example/Header/Logged In.png\n",
      "download: s3://same-story/checks/1644302997171/report/blue_difference.png to ../../../../../../tmp/same-story/checks/1644302997171/report/blue_difference.png\n",
      "download: s3://same-story/checks/1644302997171/report/__screenshots__/Example/Header/Logged Out.png to ../../../../../../tmp/same-story/checks/1644302997171/report/__screenshots__/Example/Header/Logged Out.png\n",
      "download: s3://same-story/checks/1644302997171/report/__screenshots__/Example/Button/Small.png to ../../../../../../tmp/same-story/checks/1644302997171/report/__screenshots__/Example/Button/Small.png\n",
      "download: s3://same-story/checks/1644302997171/report/__screenshots__/Example/Page/Logged In.png to ../../../../../../tmp/same-story/checks/1644302997171/report/__screenshots__/Example/Page/Logged In.png\n",
      "download: s3://same-story/checks/1644302997171/report/gray_difference.png to ../../../../../../tmp/same-story/checks/1644302997171/report/gray_difference.png\n",
      "download: s3://same-story/checks/1644302997171/report/__screenshots__/Example/Page/Logged Out.png to ../../../../../../tmp/same-story/checks/1644302997171/report/__screenshots__/Example/Page/Logged Out.png\n",
      "download: s3://same-story/checks/1644302997171/specification.json to ../../../../../../tmp/same-story/checks/1644302997171/specification.json\n",
      "download: s3://same-story/checks/1644302997171/report/results.json to ../../../../../../tmp/same-story/checks/1644302997171/report/results.json\n"
     ]
    }
   ],
   "source": [
    "!aws s3 cp s3://same-story/checks/$check_id /tmp/same-story/checks/$check_id --recursive"
   ]
  },
  {
   "cell_type": "code",
   "execution_count": 8,
   "id": "1864d7b5-a3ef-40a5-aff1-87f0e793192e",
   "metadata": {},
   "outputs": [],
   "source": [
    "check=f\"/tmp/same-story/checks/{check_id}\""
   ]
  },
  {
   "cell_type": "code",
   "execution_count": 9,
   "id": "3f9a58a6-1053-4d96-8ba3-383088cf7983",
   "metadata": {},
   "outputs": [],
   "source": [
    "spec = json.load(open(f\"{check}/specification.json\"))"
   ]
  },
  {
   "cell_type": "code",
   "execution_count": 10,
   "id": "6f0c4318-ba83-4e77-8f94-8941f3019d39",
   "metadata": {},
   "outputs": [
    {
     "data": {
      "text/plain": [
       "{'check': 1644302997171,\n",
       " 'width': '800',\n",
       " 'height': '600',\n",
       " 'component': 'Button',\n",
       " 'story': 'Primary',\n",
       " 'repository': 'engi-network/engi-ui'}"
      ]
     },
     "execution_count": 10,
     "metadata": {},
     "output_type": "execute_result"
    }
   ],
   "source": [
    "spec"
   ]
  },
  {
   "cell_type": "code",
   "execution_count": 11,
   "id": "3a8fb4a8-60e1-472e-8fdb-e098c5b8210a",
   "metadata": {},
   "outputs": [],
   "source": [
    "check_repository = spec[\"repository\"]\n",
    "check_component = spec[\"component\"]\n",
    "check_story = spec[\"story\"]"
   ]
  },
  {
   "cell_type": "code",
   "execution_count": 12,
   "id": "dec38713-f715-4b03-97ae-de3dc9ef1198",
   "metadata": {},
   "outputs": [],
   "source": [
    "check_code = f\"{check}/code\""
   ]
  },
  {
   "cell_type": "code",
   "execution_count": 15,
   "id": "d96a3a68-0b78-45b5-84fe-a7ae0dfcbf9b",
   "metadata": {},
   "outputs": [],
   "source": [
    "!mkdir -p $check_code"
   ]
  },
  {
   "cell_type": "code",
   "execution_count": 16,
   "id": "d528791e-c4ab-412d-ab35-2725eb7a3dcc",
   "metadata": {},
   "outputs": [
    {
     "name": "stdout",
     "output_type": "stream",
     "text": [
      "Cloning into '/tmp/same-story/checks/1644302997171/code'...\n",
      "remote: Enumerating objects: 96, done.\u001b[K\n",
      "remote: Counting objects: 100% (96/96), done.\u001b[K\n",
      "remote: Compressing objects: 100% (76/76), done.\u001b[K\n",
      "remote: Total 96 (delta 21), reused 92 (delta 17), pack-reused 0\u001b[K\n",
      "Receiving objects: 100% (96/96), 1.06 MiB | 2.63 MiB/s, done.\n",
      "Resolving deltas: 100% (21/21), done.\n"
     ]
    }
   ],
   "source": [
    "!gh repo clone $check_repository $check_code"
   ]
  },
  {
   "cell_type": "code",
   "execution_count": 17,
   "id": "30670b70-639d-4e8e-95de-77da35c58fca",
   "metadata": {},
   "outputs": [],
   "source": [
    "os.chdir(check_code)"
   ]
  },
  {
   "cell_type": "code",
   "execution_count": 18,
   "id": "c68ebbb6-53a6-4b15-ae52-f780f4f6da45",
   "metadata": {},
   "outputs": [
    {
     "name": "stdout",
     "output_type": "stream",
     "text": [
      "\u001b[K\u001b[?25h\u001b[37;40mnpm\u001b[0m \u001b[0m\u001b[30;43mWARN\u001b[0m \u001b[0m\u001b[35mdeprecated\u001b[0m @types/chalk@2.2.0: This is a stub types definition for chalk (https://github.com/chalk/chalk). chalk provides its own type definitions, so you don't need @types/chalk installed!\n",
      "\u001b[K\u001b[?25h\u001b[37;40mnpm\u001b[0m \u001b[0m\u001b[30;43mWARN\u001b[0m \u001b[0m\u001b[35mdeprecated\u001b[0m source-map-url@0.4.1: See https://github.com/lydell/source-map-url#deprecated\n",
      "\u001b[K\u001b[?25h\u001b[37;40mnpm\u001b[0m \u001b[0m\u001b[30;43mWARN\u001b[0m \u001b[0m\u001b[35mdeprecated\u001b[0m urix@0.1.0: Please see https://github.com/lydell/urix#deprecatedmp\u001b[0m\u001b[K\n",
      "\u001b[0m\u001b[37;40mnpm\u001b[0m \u001b[0m\u001b[30;43mWARN\u001b[0m \u001b[0m\u001b[35mdeprecated\u001b[0m source-map-resolve@0.6.0: See https://github.com/lydell/source-map-resolve#deprecated\n",
      "\u001b[K\u001b[?25h\u001b[37;40mnpm\u001b[0m \u001b[0m\u001b[30;43mWARN\u001b[0m \u001b[0m\u001b[35mdeprecated\u001b[0m resolve-url@0.2.1: https://github.com/lydell/resolve-url#deprecated[K\n",
      "\u001b[K\u001b[?25h\u001b[37;40mnpm\u001b[0m \u001b[0m\u001b[30;43mWARN\u001b[0m \u001b[0m\u001b[35mdeprecated\u001b[0m querystring@0.2.1: The querystring API is considered Legacy. new code should use the URLSearchParams API instead.\n",
      "\u001b[K\u001b[?25h\u001b[37;40mnpm\u001b[0m \u001b[0m\u001b[30;43mWARN\u001b[0m \u001b[0m\u001b[35mdeprecated\u001b[0m source-map-resolve@0.5.3: See https://github.com/lydell/source-map-resolve#deprecated\n",
      "\u001b[K\u001b[?25h\u001b[37;40mnpm\u001b[0m \u001b[0m\u001b[30;43mWARN\u001b[0m \u001b[0m\u001b[35mdeprecated\u001b[0m sane@4.1.0: some dependency vulnerabilities fixed, support for node < 10 dropped, and newer ECMAScript syntax/features added\n",
      "\u001b[K\u001b[?25h\u001b[37;40mnpm\u001b[0m \u001b[0m\u001b[30;43mWARN\u001b[0m \u001b[0m\u001b[35mdeprecated\u001b[0m fsevents@1.2.13: fsevents 1 will break on node v14+ and could be using insecure binaries. Upgrade to fsevents 2.\n",
      "\u001b[0m\u001b[37;40mnpm\u001b[0m \u001b[0m\u001b[30;43mWARN\u001b[0m \u001b[0m\u001b[35mdeprecated\u001b[0m chokidar@2.1.8: Chokidar 2 does not receive security updates since 2019. Upgrade to chokidar 3 with 15x fewer dependencies\n",
      "\u001b[K\u001b[?25h\u001b[37;40mnpm\u001b[0m \u001b[0m\u001b[30;43mWARN\u001b[0m \u001b[0m\u001b[35mdeprecated\u001b[0m querystring@0.2.0: The querystring API is considered Legacy. new code should use the URLSearchParams API instead.\n",
      "\u001b[K\u001b[?25h\u001b[37;40mnpm\u001b[0m \u001b[0m\u001b[30;43mWARN\u001b[0m \u001b[0m\u001b[35mdeprecated\u001b[0m uuid@3.4.0: Please upgrade  to version 7 or higher.  Older versions may use Math.random() in certain circumstances, which is known to be problematic.  See https://v8.dev/blog/math-random for details.\n",
      "\u001b[K\u001b[?25h\u001b[37;40mnpm\u001b[0m \u001b[0m\u001b[30;43mWARN\u001b[0m \u001b[0m\u001b[35mdeprecated\u001b[0m svgo@1.3.2: This SVGO version is no longer supported. Upgrade to v2.x.x.K\n",
      "\u001b[K\u001b[?25hm##################\u001b[0m) ⠴ reify:typescript: \u001b[32;40mtiming\u001b[0m \u001b[35mreifyNode:node_modules/rxjs\u001b[0m Com\u001b[0m\u001b[K[0m\u001b[K\n",
      "added 2647 packages, and audited 2648 packages in 16s\n",
      "\n",
      "310 packages are looking for funding\n",
      "  run `npm fund` for details\n",
      "\n",
      "\u001b[31m\u001b[1m29\u001b[22m\u001b[39m vulnerabilities (8 \u001b[33m\u001b[1mmoderate\u001b[22m\u001b[39m, 21 \u001b[31m\u001b[1mhigh\u001b[22m\u001b[39m)\n",
      "\n",
      "To address issues that do not require attention, run:\n",
      "  npm audit fix\n",
      "\n",
      "To address all issues (including breaking changes), run:\n",
      "  npm audit fix --force\n",
      "\n",
      "Run `npm audit` for details.\n"
     ]
    }
   ],
   "source": [
    "!npm install"
   ]
  },
  {
   "cell_type": "code",
   "execution_count": 19,
   "id": "f3fb69db-ec2a-400f-8c72-0f81ee1624f3",
   "metadata": {},
   "outputs": [
    {
     "name": "stdout",
     "output_type": "stream",
     "text": [
      "\n",
      "> engi-ui@0.1.0 storycap\n",
      "> storycap --serverCmd \"start-storybook -p 9001\" http://localhost:9001 \"--serverTimeout\" \"300000\" \"--captureTimeout\" \"300000\"\n",
      "\n",
      "\u001b[36minfo\u001b[39m Wait for connecting storybook server \u001b[32mhttp://localhost:9001\u001b[39m.\n",
      "\u001b[36minfo\u001b[39m Executable Chromium path: \u001b[35m/Applications/Google Chrome.app/Contents/MacOS/Google Chrome\u001b[39m\n",
      "\u001b[36minfo\u001b[39m Storycap runs with simple mode\n",
      "\u001b[36minfo\u001b[39m Found \u001b[32m2\u001b[39m stories.\n",
      "\u001b[36minfo\u001b[39m Screenshot stored: \u001b[35m__screenshots__/Example/Button/Primary.png\u001b[39m in 754 msec.\n",
      "\u001b[36minfo\u001b[39m Screenshot stored: \u001b[35m__screenshots__/Example/Button/Secondary.png\u001b[39m in 779 msec.\n",
      "\u001b[36minfo\u001b[39m Screenshot was ended successfully in \u001b[32m61017 msec\u001b[39m capturing \u001b[32m2\u001b[39m PNGs.\n"
     ]
    }
   ],
   "source": [
    "!npm run storycap -- --serverTimeout 300000 --captureTimeout 300000"
   ]
  },
  {
   "cell_type": "code",
   "execution_count": 20,
   "id": "d6b77c5f-b982-4d58-b347-ca5f4076673d",
   "metadata": {},
   "outputs": [
    {
     "name": "stdout",
     "output_type": "stream",
     "text": [
      "upload: ../../../../../../tmp/same-story/checks/1644302997171/code/__screenshots__/Example/Button/Secondary.png to s3://same-story/checks/1644302997171/report/__screenshots__/Example/Button/Secondary.png\n",
      "upload: ../../../../../../tmp/same-story/checks/1644302997171/code/__screenshots__/Example/Button/Primary.png to s3://same-story/checks/1644302997171/report/__screenshots__/Example/Button/Primary.png\n"
     ]
    }
   ],
   "source": [
    "!aws s3 cp $check_code/__screenshots__ s3://same-story/checks/$check_id/report/__screenshots__ --recursive"
   ]
  },
  {
   "cell_type": "code",
   "execution_count": 21,
   "id": "332e086f-2732-4e8e-905b-9ec9319ab81b",
   "metadata": {},
   "outputs": [],
   "source": [
    "check_frame = f\"{check}/frames/{check_component}-{check_story}.png\"\n",
    "check_code_screenshot = f\"{check_code}/__screenshots__/Example/{check_component}/{check_story}.png\""
   ]
  },
  {
   "cell_type": "code",
   "execution_count": 26,
   "id": "d91bde8a-9463-4899-85fe-758aec97eddd",
   "metadata": {},
   "outputs": [
    {
     "name": "stdout",
     "output_type": "stream",
     "text": [
      "ls: /tmp/same-story/checks/1644302997171/frames/Button-Primary.png: No such file or directory\n"
     ]
    }
   ],
   "source": [
    "!ls {check_frame}"
   ]
  },
  {
   "cell_type": "code",
   "execution_count": 29,
   "id": "589611be-7ef1-4f44-8eb6-18f3ed7ac5a2",
   "metadata": {},
   "outputs": [
    {
     "name": "stdout",
     "output_type": "stream",
     "text": [
      "ls: /tmp/same-story/checks/1644302997171/frames: No such file or directory\n"
     ]
    }
   ],
   "source": [
    "!ls {check}/frames"
   ]
  },
  {
   "cell_type": "code",
   "execution_count": 22,
   "id": "bfac43db-60b5-4a20-9b35-f3d88e92e58c",
   "metadata": {},
   "outputs": [],
   "source": [
    "blue_difference = \"blue_difference.png\""
   ]
  },
  {
   "cell_type": "code",
   "execution_count": 23,
   "id": "1280e491-f6d1-4694-9289-159f2b1c802b",
   "metadata": {},
   "outputs": [
    {
     "name": "stdout",
     "output_type": "stream",
     "text": [
      "compare: unable to open image '/tmp/same-story/checks/1644302997171/frames/Button-Primary.png': No such file or directory @ error/blob.c/OpenBlob/3527.\n"
     ]
    }
   ],
   "source": [
    "!compare {check_code_screenshot} {check_frame} -highlight-color blue {blue_difference}"
   ]
  },
  {
   "cell_type": "code",
   "execution_count": 83,
   "id": "ce4bcf68-98a7-4a1d-9698-bde5b27d36b2",
   "metadata": {},
   "outputs": [
    {
     "data": {
      "image/png": "[encoded data removed]",
      "text/plain": [
       "<IPython.core.display.Image object>"
      ]
     },
     "execution_count": 83,
     "metadata": {},
     "output_type": "execute_result"
    }
   ],
   "source": [
    "Image(filename=check_frame) "
   ]
  },
  {
   "cell_type": "code",
   "execution_count": 84,
   "id": "c791c1e3-667c-49cd-ac8e-a5f466e45bdf",
   "metadata": {},
   "outputs": [
    {
     "data": {
      "image/png": "[encoded data removed]",
      "text/plain": [
       "<IPython.core.display.Image object>"
      ]
     },
     "execution_count": 84,
     "metadata": {},
     "output_type": "execute_result"
    }
   ],
   "source": [
    "Image(filename=check_code_screenshot) "
   ]
  },
  {
   "cell_type": "code",
   "execution_count": 85,
   "id": "3a737a18-4209-47d5-ae23-9edcead80559",
   "metadata": {},
   "outputs": [
    {
     "data": {
      "image/png": "[encoded data removed]",
      "text/plain": [
       "<IPython.core.display.Image object>"
      ]
     },
     "execution_count": 85,
     "metadata": {},
     "output_type": "execute_result"
    }
   ],
   "source": [
    "Image(filename=blue_difference) "
   ]
  },
  {
   "cell_type": "code",
   "execution_count": 87,
   "id": "56925ead-6fef-4570-8a26-21d242a4149a",
   "metadata": {},
   "outputs": [
    {
     "name": "stdout",
     "output_type": "stream",
     "text": [
      "upload: ./blue_difference.png to s3://same-story/checks/1644302997171/report/blue_difference.png\n"
     ]
    }
   ],
   "source": [
    "!aws s3 cp {blue_difference} s3://same-story/checks/{check_id}/report/{blue_difference}"
   ]
  },
  {
   "cell_type": "code",
   "execution_count": 88,
   "id": "6eeedebf-57c9-48de-bdac-c14128cf0f1d",
   "metadata": {},
   "outputs": [],
   "source": [
    "gray_difference = \"gray_difference.png\""
   ]
  },
  {
   "cell_type": "code",
   "execution_count": 100,
   "id": "33ced1db-d6a5-4452-9944-36d84dbd1e74",
   "metadata": {
    "tags": []
   },
   "outputs": [],
   "source": [
    "!convert $check_code_screenshot -flatten -grayscale Rec709Luminance $check_frame -flatten -grayscale Rec709Luminance -clone 0-1 -compose darken -composite -channel RGB -combine $gray_difference"
   ]
  },
  {
   "cell_type": "code",
   "execution_count": 102,
   "id": "c49a7e9d-8b6c-4edc-9351-3bc6b32deaf7",
   "metadata": {},
   "outputs": [
    {
     "name": "stdout",
     "output_type": "stream",
     "text": [
      "upload: ./gray_difference.png to s3://same-story/checks/1644302997171/report/gray_difference.png\n"
     ]
    }
   ],
   "source": [
    "!aws s3 cp {gray_difference} s3://same-story/checks/{check_id}/report/{gray_difference}"
   ]
  },
  {
   "cell_type": "code",
   "execution_count": 103,
   "id": "d696f882-779a-4f01-9748-77b933069a37",
   "metadata": {},
   "outputs": [
    {
     "data": {
      "image/png": "[encoded data removed]",
      "text/plain": [
       "<IPython.core.display.Image object>"
      ]
     },
     "execution_count": 103,
     "metadata": {},
     "output_type": "execute_result"
    }
   ],
   "source": [
    "Image(filename=gray_difference) "
   ]
  },
  {
   "cell_type": "code",
   "execution_count": 107,
   "id": "b8ba2105-cbc1-48ca-8833-f567def178b3",
   "metadata": {},
   "outputs": [],
   "source": [
    "out = !compare -metric MAE {check_code_screenshot} {check_frame} null"
   ]
  },
  {
   "cell_type": "code",
   "execution_count": 115,
   "id": "76fefd9a-0e53-47cf-96ce-2854cbee29d0",
   "metadata": {},
   "outputs": [],
   "source": [
    "json.dump({\"MAE\": out[0]}, open(\"results.json\", \"w\"))"
   ]
  },
  {
   "cell_type": "code",
   "execution_count": 116,
   "id": "a0a33722-005b-4219-b168-fe687492bd0d",
   "metadata": {},
   "outputs": [
    {
     "name": "stdout",
     "output_type": "stream",
     "text": [
      "upload: ./results.json to s3://same-story/checks/1644302997171/report/results.json\n"
     ]
    }
   ],
   "source": [
    "!aws s3 cp results.json s3://same-story/checks/$check_id/report/results.json"
   ]
  },
  {
   "cell_type": "code",
   "execution_count": 28,
   "id": "af06203b-2645-4fd9-b9c7-7bdbffa44404",
   "metadata": {},
   "outputs": [],
   "source": [
    "f1 = \"./$/var/folders/d9/ys4dflhn1txdhj53rwrj2x340000gn/T/tmpqekyexgc/same-story/checks/1644302997171/frames/Button-Primary.png\"\n",
    "f2 = \"./$/var/folders/d9/ys4dflhn1txdhj53rwrj2x340000gn/T/tmpqekyexgc/same-story/checks/1644302997171/report/__screenshots__/Example/Button/Primary.png\""
   ]
  },
  {
   "cell_type": "code",
   "execution_count": 29,
   "id": "5dc9c52c-a44e-49aa-8ac3-18ac93f51554",
   "metadata": {},
   "outputs": [],
   "source": [
    "out = !compare -metric MAE {f1} {f2} null"
   ]
  },
  {
   "cell_type": "code",
   "execution_count": 30,
   "id": "c47c667e-b24d-445b-980a-c20bbcb3b35e",
   "metadata": {},
   "outputs": [
    {
     "data": {
      "text/plain": [
       "['195.025 (0.00297589)']"
      ]
     },
     "execution_count": 30,
     "metadata": {},
     "output_type": "execute_result"
    }
   ],
   "source": [
    "out"
   ]
  },
  {
   "cell_type": "code",
   "execution_count": 39,
   "id": "6aba7088-e385-4f90-81cf-c4a83854ccc8",
   "metadata": {},
   "outputs": [],
   "source": [
    "%run ../server/check.py"
   ]
  },
  {
   "cell_type": "code",
   "execution_count": 40,
   "id": "41b92403-baae-4ccb-8781-9844ca32f342",
   "metadata": {},
   "outputs": [
    {
     "name": "stderr",
     "output_type": "stream",
     "text": [
      "2022-03-19 10:20:31 root                      INFO     [stderr]\n",
      "195.025 (0.00297589)\n",
      "2022-03-19 10:20:31 root                      INFO     'compare -metric MAE ./$/var/folders/d9/ys4dflhn1txdhj53rwrj2x340000gn/T/tmpqekyexgc/same-story/checks/1644302997171/frames/Button-Primary.png ./$/var/folders/d9/ys4dflhn1txdhj53rwrj2x340000gn/T/tmpqekyexgc/same-story/checks/1644302997171/report/__screenshots__/Example/Button/Primary.png null' exited with code 1 elapsed 0.3246117500002583 seconds\n"
     ]
    }
   ],
   "source": [
    "retval = await run(f\"compare -metric MAE {f1} {f2} null\")"
   ]
  },
  {
   "cell_type": "code",
   "execution_count": 41,
   "id": "9b26dc5a-7f68-44b1-9b4a-2dc4034e70c1",
   "metadata": {},
   "outputs": [
    {
     "data": {
      "text/plain": [
       "(1, b'', b'195.025 (0.00297589)')"
      ]
     },
     "execution_count": 41,
     "metadata": {},
     "output_type": "execute_result"
    }
   ],
   "source": [
    "retval"
   ]
  },
  {
   "cell_type": "code",
   "execution_count": null,
   "id": "f1e55579-3e09-461b-b8c5-020b6d7bc161",
   "metadata": {},
   "outputs": [],
   "source": [
    "# aws s3 cp s3://same-story/checks/1644302997171"
   ]
  },
  {
   "cell_type": "code",
   "execution_count": 56,
   "id": "9d1e6307-3fd5-4402-87ca-719ab12ae48e",
   "metadata": {},
   "outputs": [
    {
     "data": {
      "text/plain": [
       "65362"
      ]
     },
     "execution_count": 56,
     "metadata": {},
     "output_type": "execute_result"
    }
   ],
   "source": [
    "import socket\n",
    "sock = socket.socket()\n",
    "sock.bind(('', 0))\n",
    "sock.getsockname()[1]"
   ]
  },
  {
   "cell_type": "code",
   "execution_count": 61,
   "id": "b1c24157-fb98-40cd-b040-915085c5180b",
   "metadata": {},
   "outputs": [
    {
     "data": {
      "text/plain": [
       "'/var/folders/d9/ys4dflhn1txdhj53rwrj2x340000gn/T'"
      ]
     },
     "execution_count": 61,
     "metadata": {},
     "output_type": "execute_result"
    }
   ],
   "source": [
    "import tempfile\n",
    "tempfile.gettempdir()"
   ]
  },
  {
   "cell_type": "code",
   "execution_count": null,
   "id": "d50c2cbb-6086-4508-b4d8-0147f43da888",
   "metadata": {},
   "outputs": [],
   "source": []
  }
 ],
 "metadata": {
  "kernelspec": {
   "display_name": "Python 3 (ipykernel)",
   "language": "python",
   "name": "python3"
  },
  "language_info": {
   "codemirror_mode": {
    "name": "ipython",
    "version": 3
   },
   "file_extension": ".py",
   "mimetype": "text/x-python",
   "name": "python",
   "nbconvert_exporter": "python",
   "pygments_lexer": "ipython3",
   "version": "3.9.10"
  }
 },
 "nbformat": 4,
 "nbformat_minor": 5
}
